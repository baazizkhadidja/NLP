{
 "cells": [
  {
   "cell_type": "code",
   "execution_count": 28,
   "id": "044196c6-4ea7-4b30-aa25-4d48c2acbfb1",
   "metadata": {},
   "outputs": [
    {
     "name": "stdout",
     "output_type": "stream",
     "text": [
      "/usr/local/bin/python: No module named spacy\n"
     ]
    }
   ],
   "source": [
    "!python -m spacy download en_core_web_sm"
   ]
  },
  {
   "cell_type": "code",
   "execution_count": 13,
   "id": "8088a5ab-f798-44a1-aac9-265a1e101519",
   "metadata": {},
   "outputs": [
    {
     "name": "stdout",
     "output_type": "stream",
     "text": [
      "['étudiant', 'travailler', 'beaucoup', 'aimer', 'apprendre', 'nouveau', 'chose']\n"
     ]
    }
   ],
   "source": [
    "import spacy\n",
    "nlp = spacy.load(\"fr_core_news_sm\")\n",
    "doc = nlp(\"Les étudiants travaillent beaucoup, mais ils aiment apprendre de nouvelles choses !\")\n",
    "print([t.lemma_ for t in doc if not t.is_stop and not t.is_punct])"
   ]
  },
  {
   "cell_type": "code",
   "execution_count": 15,
   "id": "d23749e3-c71b-4ac9-8738-2e5a44462f8c",
   "metadata": {},
   "outputs": [
    {
     "name": "stdout",
     "output_type": "stream",
     "text": [
      "Collecting fr-core-news-md==3.8.0\n",
      "  Downloading https://github.com/explosion/spacy-models/releases/download/fr_core_news_md-3.8.0/fr_core_news_md-3.8.0-py3-none-any.whl (45.8 MB)\n",
      "\u001b[2K     \u001b[90m━━━━━━━━━━━━━━━━━━━━━━━━━━━━━━━━━━━━━━━━\u001b[0m \u001b[32m45.8/45.8 MB\u001b[0m \u001b[31m60.1 MB/s\u001b[0m  \u001b[33m0:00:00\u001b[0m eta \u001b[36m0:00:01\u001b[0m\n",
      "\u001b[?25hInstalling collected packages: fr-core-news-md\n",
      "Successfully installed fr-core-news-md-3.8.0\n",
      "\u001b[38;5;2m✔ Download and installation successful\u001b[0m\n",
      "You can now load the package via spacy.load('fr_core_news_md')\n"
     ]
    }
   ],
   "source": [
    "import sys\n",
    "!{sys.executable} -m spacy download fr_core_news_md"
   ]
  },
  {
   "cell_type": "code",
   "execution_count": 17,
   "id": "a8da6942-c655-4508-8e4d-2b90d3ad809c",
   "metadata": {},
   "outputs": [
    {
     "name": "stdout",
     "output_type": "stream",
     "text": [
      "['étudiant', 'travailler', 'beaucoup', 'aimer', 'apprendre', 'nouveau', 'chose']\n"
     ]
    }
   ],
   "source": [
    "import spacy\n",
    "\n",
    "# Charger le modèle français moyen\n",
    "nlp = spacy.load(\"fr_core_news_md\")\n",
    "\n",
    "# Exemple\n",
    "doc = nlp(\"Les étudiants travaillent beaucoup, mais ils aiment apprendre de nouvelles choses !\")\n",
    "print([t.lemma_ for t in doc if not t.is_stop and not t.is_punct])"
   ]
  },
  {
   "cell_type": "code",
   "execution_count": 19,
   "id": "4d00ed9f-ae2a-40c3-9cb8-b879d5e96976",
   "metadata": {},
   "outputs": [
    {
     "name": "stdout",
     "output_type": "stream",
     "text": [
      "Collecting fr-core-news-md==3.8.0\n",
      "  Using cached https://github.com/explosion/spacy-models/releases/download/fr_core_news_md-3.8.0/fr_core_news_md-3.8.0-py3-none-any.whl (45.8 MB)\n",
      "\u001b[38;5;2m✔ Download and installation successful\u001b[0m\n",
      "You can now load the package via spacy.load('fr_core_news_md')\n",
      "Entrée : Les étudiants travaillent beaucoup, mais ils aiment apprendre de nouvelles choses !\n",
      "Sortie : étudiant travailler beaucoup aimer apprendre nouveau chose\n"
     ]
    }
   ],
   "source": [
    "# --- Installation du modèle français (md) ---\n",
    "import sys\n",
    "!{sys.executable} -m spacy download fr_core_news_md\n",
    "\n",
    "# --- Chargement du modèle ---\n",
    "import spacy\n",
    "nlp = spacy.load(\"fr_core_news_md\")\n",
    "\n",
    "# --- Fonction de prétraitement ---\n",
    "def preprocess_text(text: str) -> str:\n",
    "    doc = nlp(text.lower())\n",
    "    tokens = [t.lemma_ for t in doc if not t.is_stop and not t.is_punct]\n",
    "    return \" \".join(tokens)\n",
    "\n",
    "# --- Test ---\n",
    "texte = \"Les étudiants travaillent beaucoup, mais ils aiment apprendre de nouvelles choses !\"\n",
    "print(\"Entrée :\", texte)\n",
    "print(\"Sortie :\", preprocess_text(texte))"
   ]
  },
  {
   "cell_type": "code",
   "execution_count": 21,
   "id": "234a4c89-5484-4943-9ca2-121dfd63fc19",
   "metadata": {},
   "outputs": [],
   "source": [
    "nlp = spacy.load('en_core_web_sm')\n",
    "doc = nlp(text1)\n"
   ]
  },
  {
   "cell_type": "code",
   "execution_count": 33,
   "id": "aaa69397-4019-4008-9cf8-8535caa9864a",
   "metadata": {},
   "outputs": [],
   "source": [
    "text1 = \"\"\"I love sci-fi and am willing to put up with a lot. Sci-fi movies/TV are usually underfunded, under-appreciated and misunderstood. I tried to like this, I really did, but it is to good TV sci-fi as Babylon 5 is to Star Trek (the original). Silly prosthetics, cheap cardboard sets, stilted dialogues, CG that doesn't match the background, and painfully one-dimensional characters cannot be overcome with a 'sci-fi' setting. (I'm sure there are those of you out there who think Babylon 5 is good sci-fi TV. It's not. It's clichéd and uninspiring.) While US viewers might like emotion and character development, sci-fi is a genre that does not take itself seriously (cf. Star Trek). It may treat important issues, yet not as a serious philosophy. It's really difficult to care about the characters here as they are not simply foolish, just missing a spark of life. Their actions and reactions are wooden and predictable, often painful to watch. The makers of Earth KNOW it's rubbish as they have to always say \"Gene Roddenberry's Earth...\" otherwise people would not continue watching. Roddenberry's ashes must be turning in their orbit as this dull, cheap, poorly edited (watching it without advert breaks really brings this home) trudging Trabant of a show lumbers into space. Spoiler. So, kill off a main character. And then bring him back as another actor. Jeeez! Dallas all over again.\"\"\""
   ]
  },
  {
   "cell_type": "code",
   "execution_count": 41,
   "id": "6c8aaf85-f06a-455d-bbba-e1658f656377",
   "metadata": {},
   "outputs": [],
   "source": [
    "nlp = spacy.load('en_core_web_sm')\n",
    "doc = nlp(text1.lower())"
   ]
  },
  {
   "cell_type": "code",
   "execution_count": 51,
   "id": "cd90c24e-83bb-41e7-a2d6-0075ba8f7309",
   "metadata": {},
   "outputs": [],
   "source": [
    "vocab_tmp = []\n",
    "for token in doc:\n",
    "    if not (token.is_stop or token.is_punct):\n",
    "        vocab_tmp.append(token.text)"
   ]
  },
  {
   "cell_type": "code",
   "execution_count": 53,
   "id": "5be93835-c827-4fd3-9a74-1937a33309f9",
   "metadata": {},
   "outputs": [
    {
     "data": {
      "text/plain": [
       "92"
      ]
     },
     "execution_count": 53,
     "metadata": {},
     "output_type": "execute_result"
    }
   ],
   "source": [
    "len(set(vocab_tmp))"
   ]
  },
  {
   "cell_type": "code",
   "execution_count": 59,
   "id": "c070721d-05d1-43c7-8ee0-d5ef7933c501",
   "metadata": {},
   "outputs": [],
   "source": [
    "vocab_inv = {v:k for k,v in vocab.items()}"
   ]
  },
  {
   "cell_type": "code",
   "execution_count": 61,
   "id": "0667e1b1-ee1e-42a7-8a4a-84844317dc77",
   "metadata": {},
   "outputs": [
    {
     "data": {
      "text/plain": [
       "{0: 'movies',\n",
       " 1: 'life',\n",
       " 2: 'uninspiring',\n",
       " 3: 'poorly',\n",
       " 4: 'silly',\n",
       " 5: 'treat',\n",
       " 6: 'spark',\n",
       " 7: 'advert',\n",
       " 8: 'care',\n",
       " 9: 'trek',\n",
       " 10: 'earth',\n",
       " 11: 'main',\n",
       " 12: 'important',\n",
       " 13: 'dimensional',\n",
       " 14: 'overcome',\n",
       " 15: 'know',\n",
       " 16: 'cheap',\n",
       " 17: 'stilted',\n",
       " 18: 'viewers',\n",
       " 19: 'actor',\n",
       " 20: 'star',\n",
       " 21: 'love',\n",
       " 22: 'cg',\n",
       " 23: 'watching',\n",
       " 24: 'match',\n",
       " 25: 'difficult',\n",
       " 26: 'misunderstood',\n",
       " 27: 'predictable',\n",
       " 28: 'edited',\n",
       " 29: 'cf',\n",
       " 30: 'underfunded',\n",
       " 31: 'philosophy',\n",
       " 32: 'genre',\n",
       " 33: 'watch',\n",
       " 34: 'bring',\n",
       " 35: 'foolish',\n",
       " 36: 'wooden',\n",
       " 37: 'tv',\n",
       " 38: '5',\n",
       " 39: 'original',\n",
       " 40: 'roddenberry',\n",
       " 41: 'sci',\n",
       " 42: 'painfully',\n",
       " 43: 'spoiler',\n",
       " 44: 'fi',\n",
       " 45: 'turning',\n",
       " 46: 'dull',\n",
       " 47: 'sets',\n",
       " 48: 'willing',\n",
       " 49: 'prosthetics',\n",
       " 50: 'ashes',\n",
       " 51: 'cardboard',\n",
       " 52: 'trudging',\n",
       " 53: 'clichéd',\n",
       " 54: 'jeeez',\n",
       " 55: 'think',\n",
       " 56: 'people',\n",
       " 57: 'reactions',\n",
       " 58: 'character',\n",
       " 59: 'good',\n",
       " 60: 'orbit',\n",
       " 61: 'usually',\n",
       " 62: 'home',\n",
       " 63: 'emotion',\n",
       " 64: 'characters',\n",
       " 65: 'seriously',\n",
       " 66: 'tried',\n",
       " 67: 'kill',\n",
       " 68: 'makers',\n",
       " 69: 'setting',\n",
       " 70: 'issues',\n",
       " 71: 'breaks',\n",
       " 72: 'trabant',\n",
       " 73: 'appreciated',\n",
       " 74: 'space',\n",
       " 75: 'background',\n",
       " 76: 'like',\n",
       " 77: 'gene',\n",
       " 78: 'painful',\n",
       " 79: 'development',\n",
       " 80: 'brings',\n",
       " 81: 'missing',\n",
       " 82: 'actions',\n",
       " 83: 'lumbers',\n",
       " 84: 'simply',\n",
       " 85: 'sure',\n",
       " 86: 'continue',\n",
       " 87: 'lot',\n",
       " 88: 'babylon',\n",
       " 89: 'dialogues',\n",
       " 90: 'dallas',\n",
       " 91: 'rubbish'}"
      ]
     },
     "execution_count": 61,
     "metadata": {},
     "output_type": "execute_result"
    }
   ],
   "source": [
    "vocab_inv"
   ]
  },
  {
   "cell_type": "code",
   "execution_count": 57,
   "id": "3af9a483-c129-4549-9e12-58729d4c9e5a",
   "metadata": {},
   "outputs": [
    {
     "data": {
      "text/plain": [
       "{'movies': 0,\n",
       " 'life': 1,\n",
       " 'uninspiring': 2,\n",
       " 'poorly': 3,\n",
       " 'silly': 4,\n",
       " 'treat': 5,\n",
       " 'spark': 6,\n",
       " 'advert': 7,\n",
       " 'care': 8,\n",
       " 'trek': 9,\n",
       " 'earth': 10,\n",
       " 'main': 11,\n",
       " 'important': 12,\n",
       " 'dimensional': 13,\n",
       " 'overcome': 14,\n",
       " 'know': 15,\n",
       " 'cheap': 16,\n",
       " 'stilted': 17,\n",
       " 'viewers': 18,\n",
       " 'actor': 19,\n",
       " 'star': 20,\n",
       " 'love': 21,\n",
       " 'cg': 22,\n",
       " 'watching': 23,\n",
       " 'match': 24,\n",
       " 'difficult': 25,\n",
       " 'misunderstood': 26,\n",
       " 'predictable': 27,\n",
       " 'edited': 28,\n",
       " 'cf': 29,\n",
       " 'underfunded': 30,\n",
       " 'philosophy': 31,\n",
       " 'genre': 32,\n",
       " 'watch': 33,\n",
       " 'bring': 34,\n",
       " 'foolish': 35,\n",
       " 'wooden': 36,\n",
       " 'tv': 37,\n",
       " '5': 38,\n",
       " 'original': 39,\n",
       " 'roddenberry': 40,\n",
       " 'sci': 41,\n",
       " 'painfully': 42,\n",
       " 'spoiler': 43,\n",
       " 'fi': 44,\n",
       " 'turning': 45,\n",
       " 'dull': 46,\n",
       " 'sets': 47,\n",
       " 'willing': 48,\n",
       " 'prosthetics': 49,\n",
       " 'ashes': 50,\n",
       " 'cardboard': 51,\n",
       " 'trudging': 52,\n",
       " 'clichéd': 53,\n",
       " 'jeeez': 54,\n",
       " 'think': 55,\n",
       " 'people': 56,\n",
       " 'reactions': 57,\n",
       " 'character': 58,\n",
       " 'good': 59,\n",
       " 'orbit': 60,\n",
       " 'usually': 61,\n",
       " 'home': 62,\n",
       " 'emotion': 63,\n",
       " 'characters': 64,\n",
       " 'seriously': 65,\n",
       " 'tried': 66,\n",
       " 'kill': 67,\n",
       " 'makers': 68,\n",
       " 'setting': 69,\n",
       " 'issues': 70,\n",
       " 'breaks': 71,\n",
       " 'trabant': 72,\n",
       " 'appreciated': 73,\n",
       " 'space': 74,\n",
       " 'background': 75,\n",
       " 'like': 76,\n",
       " 'gene': 77,\n",
       " 'painful': 78,\n",
       " 'development': 79,\n",
       " 'brings': 80,\n",
       " 'missing': 81,\n",
       " 'actions': 82,\n",
       " 'lumbers': 83,\n",
       " 'simply': 84,\n",
       " 'sure': 85,\n",
       " 'continue': 86,\n",
       " 'lot': 87,\n",
       " 'babylon': 88,\n",
       " 'dialogues': 89,\n",
       " 'dallas': 90,\n",
       " 'rubbish': 91}"
      ]
     },
     "execution_count": 57,
     "metadata": {},
     "output_type": "execute_result"
    }
   ],
   "source": [
    "vocab = {k:v for v,k in enumerate(set(vocab_tmp))}\n",
    "vocab"
   ]
  },
  {
   "cell_type": "code",
   "execution_count": null,
   "id": "ca9b96ce-a49f-481f-90a5-3c4888d58641",
   "metadata": {},
   "outputs": [],
   "source": [
    "#BOG OF WORDS"
   ]
  },
  {
   "cell_type": "code",
   "execution_count": 63,
   "id": "4d92ac34-afa5-4316-8976-a59a270bfe00",
   "metadata": {},
   "outputs": [
    {
     "data": {
      "text/plain": [
       "['i',\n",
       " 'love',\n",
       " 'sci-fi',\n",
       " 'and',\n",
       " 'am',\n",
       " 'willing',\n",
       " 'to',\n",
       " 'put',\n",
       " 'up',\n",
       " 'with',\n",
       " 'a',\n",
       " 'lot.',\n",
       " 'sci-fi',\n",
       " 'movies/tv',\n",
       " 'are',\n",
       " 'usually',\n",
       " 'underfunded,',\n",
       " 'under-appreciated',\n",
       " 'and',\n",
       " 'misunderstood.',\n",
       " 'i',\n",
       " 'tried',\n",
       " 'to',\n",
       " 'like',\n",
       " 'this,',\n",
       " 'i',\n",
       " 'really',\n",
       " 'did,',\n",
       " 'but',\n",
       " 'it',\n",
       " 'is',\n",
       " 'to',\n",
       " 'good',\n",
       " 'tv',\n",
       " 'sci-fi',\n",
       " 'as',\n",
       " 'babylon',\n",
       " '5',\n",
       " 'is',\n",
       " 'to',\n",
       " 'star',\n",
       " 'trek',\n",
       " '(the',\n",
       " 'original).',\n",
       " 'silly',\n",
       " 'prosthetics,',\n",
       " 'cheap',\n",
       " 'cardboard',\n",
       " 'sets,',\n",
       " 'stilted',\n",
       " 'dialogues,',\n",
       " 'cg',\n",
       " 'that',\n",
       " \"doesn't\",\n",
       " 'match',\n",
       " 'the',\n",
       " 'background,',\n",
       " 'and',\n",
       " 'painfully',\n",
       " 'one-dimensional',\n",
       " 'characters',\n",
       " 'cannot',\n",
       " 'be',\n",
       " 'overcome',\n",
       " 'with',\n",
       " 'a',\n",
       " \"'sci-fi'\",\n",
       " 'setting.',\n",
       " \"(i'm\",\n",
       " 'sure',\n",
       " 'there',\n",
       " 'are',\n",
       " 'those',\n",
       " 'of',\n",
       " 'you',\n",
       " 'out',\n",
       " 'there',\n",
       " 'who',\n",
       " 'think',\n",
       " 'babylon',\n",
       " '5',\n",
       " 'is',\n",
       " 'good',\n",
       " 'sci-fi',\n",
       " 'tv.',\n",
       " \"it's\",\n",
       " 'not.',\n",
       " \"it's\",\n",
       " 'clichéd',\n",
       " 'and',\n",
       " 'uninspiring.)',\n",
       " 'while',\n",
       " 'us',\n",
       " 'viewers',\n",
       " 'might',\n",
       " 'like',\n",
       " 'emotion',\n",
       " 'and',\n",
       " 'character',\n",
       " 'development,',\n",
       " 'sci-fi',\n",
       " 'is',\n",
       " 'a',\n",
       " 'genre',\n",
       " 'that',\n",
       " 'does',\n",
       " 'not',\n",
       " 'take',\n",
       " 'itself',\n",
       " 'seriously',\n",
       " '(cf.',\n",
       " 'star',\n",
       " 'trek).',\n",
       " 'it',\n",
       " 'may',\n",
       " 'treat',\n",
       " 'important',\n",
       " 'issues,',\n",
       " 'yet',\n",
       " 'not',\n",
       " 'as',\n",
       " 'a',\n",
       " 'serious',\n",
       " 'philosophy.',\n",
       " \"it's\",\n",
       " 'really',\n",
       " 'difficult',\n",
       " 'to',\n",
       " 'care',\n",
       " 'about',\n",
       " 'the',\n",
       " 'characters',\n",
       " 'here',\n",
       " 'as',\n",
       " 'they',\n",
       " 'are',\n",
       " 'not',\n",
       " 'simply',\n",
       " 'foolish,',\n",
       " 'just',\n",
       " 'missing',\n",
       " 'a',\n",
       " 'spark',\n",
       " 'of',\n",
       " 'life.',\n",
       " 'their',\n",
       " 'actions',\n",
       " 'and',\n",
       " 'reactions',\n",
       " 'are',\n",
       " 'wooden',\n",
       " 'and',\n",
       " 'predictable,',\n",
       " 'often',\n",
       " 'painful',\n",
       " 'to',\n",
       " 'watch.',\n",
       " 'the',\n",
       " 'makers',\n",
       " 'of',\n",
       " 'earth',\n",
       " 'know',\n",
       " \"it's\",\n",
       " 'rubbish',\n",
       " 'as',\n",
       " 'they',\n",
       " 'have',\n",
       " 'to',\n",
       " 'always',\n",
       " 'say',\n",
       " '\"gene',\n",
       " \"roddenberry's\",\n",
       " 'earth...\"',\n",
       " 'otherwise',\n",
       " 'people',\n",
       " 'would',\n",
       " 'not',\n",
       " 'continue',\n",
       " 'watching.',\n",
       " \"roddenberry's\",\n",
       " 'ashes',\n",
       " 'must',\n",
       " 'be',\n",
       " 'turning',\n",
       " 'in',\n",
       " 'their',\n",
       " 'orbit',\n",
       " 'as',\n",
       " 'this',\n",
       " 'dull,',\n",
       " 'cheap,',\n",
       " 'poorly',\n",
       " 'edited',\n",
       " '(watching',\n",
       " 'it',\n",
       " 'without',\n",
       " 'advert',\n",
       " 'breaks',\n",
       " 'really',\n",
       " 'brings',\n",
       " 'this',\n",
       " 'home)',\n",
       " 'trudging',\n",
       " 'trabant',\n",
       " 'of',\n",
       " 'a',\n",
       " 'show',\n",
       " 'lumbers',\n",
       " 'into',\n",
       " 'space.',\n",
       " 'spoiler.',\n",
       " 'so,',\n",
       " 'kill',\n",
       " 'off',\n",
       " 'a',\n",
       " 'main',\n",
       " 'character.',\n",
       " 'and',\n",
       " 'then',\n",
       " 'bring',\n",
       " 'him',\n",
       " 'back',\n",
       " 'as',\n",
       " 'another',\n",
       " 'actor.',\n",
       " 'jeeez!',\n",
       " 'dallas',\n",
       " 'all',\n",
       " 'over',\n",
       " 'again.']"
      ]
     },
     "execution_count": 63,
     "metadata": {},
     "output_type": "execute_result"
    }
   ],
   "source": [
    "text1.lower().split()"
   ]
  },
  {
   "cell_type": "code",
   "execution_count": 85,
   "id": "9561efac-c4c7-4244-b3ec-9b7cdde927c6",
   "metadata": {},
   "outputs": [],
   "source": [
    "text3=\"\"\"I usually enjoy sci-fi and can forgive a lot, but this was just awful. The sets looked cheap, the dialogue was stiff, and the characters had no life at all. It tried to be profound, but ended up clichéd and boring. Honestly, it felt more like a parody than real sci-fi.\"\"\""
   ]
  },
  {
   "cell_type": "code",
   "execution_count": 87,
   "id": "c80b42b6-11d1-4d4a-a833-187e127b72a9",
   "metadata": {},
   "outputs": [
    {
     "data": {
      "text/plain": [
       "51"
      ]
     },
     "execution_count": 87,
     "metadata": {},
     "output_type": "execute_result"
    }
   ],
   "source": [
    "len(text3.lower().split())"
   ]
  },
  {
   "cell_type": "code",
   "execution_count": 89,
   "id": "714af064-2f96-446b-883e-12ce6b1bbefb",
   "metadata": {},
   "outputs": [],
   "source": [
    "import numpy as np\n",
    "vec=np.zeros(len(vocab))\n",
    "for key in vocab:\n",
    "    if key in text3.lower().split():\n",
    "        vec[vocab[key]]+=1"
   ]
  },
  {
   "cell_type": "code",
   "execution_count": 73,
   "id": "8bdc2675-ae96-44bb-8bd3-ddcd41c7139a",
   "metadata": {},
   "outputs": [
    {
     "data": {
      "text/plain": [
       "array([0., 0., 0., 0., 0., 0., 0., 0., 0., 0., 0., 0., 0., 0., 0., 0., 1.,\n",
       "       0., 0., 0., 0., 0., 0., 0., 0., 0., 0., 0., 0., 0., 0., 0., 0., 0.,\n",
       "       0., 0., 0., 0., 0., 0., 0., 0., 0., 0., 0., 0., 0., 0., 0., 0., 0.,\n",
       "       0., 0., 0., 0., 0., 0., 0., 0., 0., 0., 0., 0., 0., 1., 0., 0., 0.,\n",
       "       0., 0., 0., 0., 0., 0., 0., 0., 0., 0., 0., 0., 0., 0., 0., 0., 0.,\n",
       "       0., 0., 0., 0., 0., 0., 0.])"
      ]
     },
     "execution_count": 73,
     "metadata": {},
     "output_type": "execute_result"
    }
   ],
   "source": [
    "vec"
   ]
  },
  {
   "cell_type": "code",
   "execution_count": 91,
   "id": "55385168-9a46-43e2-9ae1-665a05b7c4d5",
   "metadata": {},
   "outputs": [
    {
     "data": {
      "text/plain": [
       "(array([ 1, 47, 53, 61, 64, 66, 76]),)"
      ]
     },
     "execution_count": 91,
     "metadata": {},
     "output_type": "execute_result"
    }
   ],
   "source": [
    "np.where(vec==1)"
   ]
  },
  {
   "cell_type": "code",
   "execution_count": 107,
   "id": "6c3c3ac3-4ef6-4fa2-aaf6-f5e52cca4880",
   "metadata": {},
   "outputs": [
    {
     "data": {
      "text/plain": [
       "['life', 'sets', 'clichéd', 'usually', 'characters', 'tried', 'like']"
      ]
     },
     "execution_count": 107,
     "metadata": {},
     "output_type": "execute_result"
    }
   ],
   "source": [
    "[vocab_inv[idx] for idx in np.where(vec==1)[0]]"
   ]
  },
  {
   "cell_type": "code",
   "execution_count": 109,
   "id": "2fc3d864-acc7-476b-aa3b-12706a9ca3fe",
   "metadata": {},
   "outputs": [
    {
     "name": "stdout",
     "output_type": "stream",
     "text": [
      "/Users/khadidjabaaziz\n"
     ]
    }
   ],
   "source": [
    "import os\n",
    "print(os.getcwd())\n"
   ]
  },
  {
   "cell_type": "code",
   "execution_count": null,
   "id": "653fbb31-3e42-4e41-b213-3471bedf542b",
   "metadata": {},
   "outputs": [],
   "source": [
    "import shutil\n",
    "\n",
    "# chemin d'origine (fichier à déplacer)\n",
    "src = \"mon_dos/mon_fichier.txt\"\n",
    "\n",
    "# destination (où tu veux coller le fichier)\n",
    "dst = \"nouveau_dossier/mon_fichier.txt\"\n",
    "\n",
    "# déplacer le fichier (coupé-collé)\n",
    "shutil.move(src, dst)\n",
    "\n",
    "print(\"✅ Fichier déplacé avec succès !\")\n"
   ]
  }
 ],
 "metadata": {
  "kernelspec": {
   "display_name": "Python [conda env:anaconda3] *",
   "language": "python",
   "name": "conda-env-anaconda3-py"
  },
  "language_info": {
   "codemirror_mode": {
    "name": "ipython",
    "version": 3
   },
   "file_extension": ".py",
   "mimetype": "text/x-python",
   "name": "python",
   "nbconvert_exporter": "python",
   "pygments_lexer": "ipython3",
   "version": "3.12.7"
  }
 },
 "nbformat": 4,
 "nbformat_minor": 5
}
